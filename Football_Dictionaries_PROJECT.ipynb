{
  "nbformat": 4,
  "nbformat_minor": 0,
  "metadata": {
    "colab": {
      "provenance": []
    },
    "kernelspec": {
      "name": "python3",
      "display_name": "Python 3"
    },
    "language_info": {
      "name": "python"
    }
  },
  "cells": [
    {
      "cell_type": "code",
      "source": [
        "SQUADS_DATA = [\n",
        "    [\"1\", \"GK\", \"Juan Botasso\", \"(1908-10-23)23 October 1908 (aged 21)\", \"\", \"Quilmes\", \"Argentina\", \"Argentina\", \"1930\"],\n",
        "    [\"9\", \"FW\", \"Roberto Cherro\", \"(1907-02-23)23 February 1907 (aged 23)\", \"\", \"Boca Juniors\", \"Argentina\", \"Argentina\", \"1930\"],\n",
        "    [\"-\", \"MF\", \"Pierre Braine\", \"(1900-10-26)26 October 1900 (aged 29)\", \"42\", \"Royal Beerschot AC\", \"Belgium\", \"Belgium\", \"1930\"],\n",
        "    [\"-\", \"MF\", \"Alexis Chantraine\", \"(1901-03-16)16 March 1901 (aged 29)\", \"0\", \"Royal FC Liegeois\", \"Belgium\", \"Belgium\", \"1930\"],\n",
        "    [\"-\", \"GK\", \"Jean De Bie\", \"(1892-05-09)9 May 1892 (aged 38)\", \"37\", \"Royal Racing Club de Bruxelles\", \"Belgium\", \"Belgium\", \"1930\"],\n",
        "    [\"-\", \"MF\", \"Oscar\", \"(1991-09-09)9 September 1991 (aged 22)\", \"29\", \"Chelsea\", \"Brazil\", \"England\", \"2010\"],\n",
        "    [\"-\", \"MF\", \"Paulinho\", \"(1988-07-25)25 July 1988 (aged 25)\", \"25\", \"Tottenham Hotspur\", \"Brazil\", \"England\", \"2010\"],\n",
        "    [\"-\", \"MF\", \"Hernanes\", \"(1985-05-29)29 May 1985 (aged 29)\", \"23\", \"Internazionale\", \"Brazil\", \"Italy\", \"2014\"],\n",
        "    [\"-\", \"MF\", \"Luiz Gustavo\", \"(1987-07-23)23 July 1987 (aged 26)\", \"17\", \"VfL Wolfsburg\", \"Brazil\", \"Germany\", \"2014\"],\n",
        "    [\"-\", \"MF\", \"Fernandinho\", \"(1985-05-04)4 May 1985 (aged 29)\", \"6\", \"Manchester City\", \"Brazil\", \"England\", \"2014\"],\n",
        "    [\"-\", \"MF\", \"Willian\", \"(1988-08-09)9 August 1988 (aged 25)\", \"5\", \"Chelsea\", \"Brazil\", \"England\", \"2014\"],\n",
        "    [\"-\", \"FW\", \"Lee Keun-Ho\", \"(1985-04-11)11 April 1985 (aged 29)\", \"62\", \"Sangju Sangmu\", \"South Korea\", \"South Korea\", \"2014\"],\n",
        "    [\"-\", \"FW\", \"Koo Ja-Cheol\", \"(1989-02-27)27 February 1989 (aged 25)\", \"35\", \"Mainz 05\", \"South Korea\", \"Germany\", \"2014\"],\n",
        "    [\"-\", \"FW\", \"Kim Shin-Wook\", \"(1988-04-14)14 April 1988 (aged 26)\", \"26\", \"Ulsan Hyundai\", \"South Korea\", \"South Korea\", \"2014\"]\n",
        "]\n",
        "\n",
        "# Assignment 1: Convert lists to dictionaries\n",
        "def convert_to_dict(players_list):\n",
        "    keys = ['number', 'position', 'name', 'date_of_birth', 'caps', 'club', 'country', 'club_country', 'year']\n",
        "    return [dict(zip(keys, player)) for player in players_list if len(player) == len(keys)]\n",
        "\n",
        "# Assignment 2: Group players by position\n",
        "def group_by_position(players_list):\n",
        "    grouped = {}\n",
        "    for player in convert_to_dict(players_list):\n",
        "        position = player['position']\n",
        "        if position not in grouped:\n",
        "            grouped[position] = []\n",
        "        grouped[position].append(player)\n",
        "    return grouped\n",
        "\n",
        "# Assignment 3: Group players by country and then by position\n",
        "def group_by_country_and_position(players_list):\n",
        "    grouped = {}\n",
        "    for player in convert_to_dict(players_list):\n",
        "        country = player['country']\n",
        "        position = player['position']\n",
        "        if country not in grouped:\n",
        "            grouped[country] = {}\n",
        "        if position not in grouped[country]:\n",
        "            grouped[country][position] = []\n",
        "        grouped[country][position].append(player)\n",
        "    return grouped\n",
        "\n",
        "# Run functions and test results\n",
        "players_dicts = convert_to_dict(SQUADS_DATA)\n",
        "print(\"Assignment 1: \", players_dicts)\n",
        "\n",
        "position_groups = group_by_position(SQUADS_DATA)\n",
        "print(\"\\nAssignment 2: \", position_groups)\n",
        "\n",
        "country_position_groups = group_by_country_and_position(SQUADS_DATA)\n",
        "print(\"\\nAssignment 3: \", country_position_groups)\n",
        "\n",
        "# Unit tests\n",
        "def test_convert_to_dict():\n",
        "    assert isinstance(players_dicts, list)\n",
        "    assert all(isinstance(player, dict) for player in players_dicts)\n",
        "    assert 'name' in players_dicts[0]\n",
        "    assert players_dicts[0]['name'] == \"Juan Botasso\"\n",
        "    assert players_dicts[-1]['name'] == \"Kim Shin-Wook\"\n",
        "    assert players_dicts[5]['caps'] == \"29\"  # Ensure caps is captured correctly\n",
        "\n",
        "def test_group_by_position():\n",
        "    assert isinstance(position_groups, dict)\n",
        "    assert len(position_groups) >= 3  # Ensure at least GK, MF, FW exist\n",
        "    assert any(player['name'] == \"Juan Botasso\" for player in position_groups['GK'])\n",
        "    assert len(position_groups['MF']) == 8\n",
        "\n",
        "def test_group_by_country_and_position():\n",
        "    assert isinstance(country_position_groups, dict)\n",
        "    assert 'Argentina' in country_position_groups\n",
        "    assert 'GK' in country_position_groups['Argentina']\n",
        "    assert any(player['name'] == \"Juan Botasso\" for player in country_position_groups['Argentina']['GK'])\n",
        "    assert 'Brazil' in country_position_groups\n",
        "    assert 'MF' in country_position_groups['Brazil']\n",
        "    assert len(country_position_groups['Brazil']['MF']) == 6\n",
        "    assert any(player['name'] == \"Oscar\" for player in country_position_groups['Brazil']['MF'])\n",
        "\n",
        "test_convert_to_dict()\n",
        "test_group_by_position()\n",
        "test_group_by_country_and_position()\n",
        "print(\"\\nAll tests passed!\")"
      ],
      "metadata": {
        "colab": {
          "base_uri": "https://localhost:8080/"
        },
        "id": "XZfRkSJxEAJe",
        "outputId": "68d90231-8c19-4301-dfce-222ee37ebc96"
      },
      "execution_count": 16,
      "outputs": [
        {
          "output_type": "stream",
          "name": "stdout",
          "text": [
            "Assignment 1:  [{'number': '1', 'position': 'GK', 'name': 'Juan Botasso', 'date_of_birth': '(1908-10-23)23 October 1908 (aged 21)', 'caps': '', 'club': 'Quilmes', 'country': 'Argentina', 'club_country': 'Argentina', 'year': '1930'}, {'number': '9', 'position': 'FW', 'name': 'Roberto Cherro', 'date_of_birth': '(1907-02-23)23 February 1907 (aged 23)', 'caps': '', 'club': 'Boca Juniors', 'country': 'Argentina', 'club_country': 'Argentina', 'year': '1930'}, {'number': '-', 'position': 'MF', 'name': 'Pierre Braine', 'date_of_birth': '(1900-10-26)26 October 1900 (aged 29)', 'caps': '42', 'club': 'Royal Beerschot AC', 'country': 'Belgium', 'club_country': 'Belgium', 'year': '1930'}, {'number': '-', 'position': 'MF', 'name': 'Alexis Chantraine', 'date_of_birth': '(1901-03-16)16 March 1901 (aged 29)', 'caps': '0', 'club': 'Royal FC Liegeois', 'country': 'Belgium', 'club_country': 'Belgium', 'year': '1930'}, {'number': '-', 'position': 'GK', 'name': 'Jean De Bie', 'date_of_birth': '(1892-05-09)9 May 1892 (aged 38)', 'caps': '37', 'club': 'Royal Racing Club de Bruxelles', 'country': 'Belgium', 'club_country': 'Belgium', 'year': '1930'}, {'number': '-', 'position': 'MF', 'name': 'Oscar', 'date_of_birth': '(1991-09-09)9 September 1991 (aged 22)', 'caps': '29', 'club': 'Chelsea', 'country': 'Brazil', 'club_country': 'England', 'year': '2010'}, {'number': '-', 'position': 'MF', 'name': 'Paulinho', 'date_of_birth': '(1988-07-25)25 July 1988 (aged 25)', 'caps': '25', 'club': 'Tottenham Hotspur', 'country': 'Brazil', 'club_country': 'England', 'year': '2010'}, {'number': '-', 'position': 'MF', 'name': 'Hernanes', 'date_of_birth': '(1985-05-29)29 May 1985 (aged 29)', 'caps': '23', 'club': 'Internazionale', 'country': 'Brazil', 'club_country': 'Italy', 'year': '2014'}, {'number': '-', 'position': 'MF', 'name': 'Luiz Gustavo', 'date_of_birth': '(1987-07-23)23 July 1987 (aged 26)', 'caps': '17', 'club': 'VfL Wolfsburg', 'country': 'Brazil', 'club_country': 'Germany', 'year': '2014'}, {'number': '-', 'position': 'MF', 'name': 'Fernandinho', 'date_of_birth': '(1985-05-04)4 May 1985 (aged 29)', 'caps': '6', 'club': 'Manchester City', 'country': 'Brazil', 'club_country': 'England', 'year': '2014'}, {'number': '-', 'position': 'MF', 'name': 'Willian', 'date_of_birth': '(1988-08-09)9 August 1988 (aged 25)', 'caps': '5', 'club': 'Chelsea', 'country': 'Brazil', 'club_country': 'England', 'year': '2014'}, {'number': '-', 'position': 'FW', 'name': 'Lee Keun-Ho', 'date_of_birth': '(1985-04-11)11 April 1985 (aged 29)', 'caps': '62', 'club': 'Sangju Sangmu', 'country': 'South Korea', 'club_country': 'South Korea', 'year': '2014'}, {'number': '-', 'position': 'FW', 'name': 'Koo Ja-Cheol', 'date_of_birth': '(1989-02-27)27 February 1989 (aged 25)', 'caps': '35', 'club': 'Mainz 05', 'country': 'South Korea', 'club_country': 'Germany', 'year': '2014'}, {'number': '-', 'position': 'FW', 'name': 'Kim Shin-Wook', 'date_of_birth': '(1988-04-14)14 April 1988 (aged 26)', 'caps': '26', 'club': 'Ulsan Hyundai', 'country': 'South Korea', 'club_country': 'South Korea', 'year': '2014'}]\n",
            "\n",
            "Assignment 2:  {'GK': [{'number': '1', 'position': 'GK', 'name': 'Juan Botasso', 'date_of_birth': '(1908-10-23)23 October 1908 (aged 21)', 'caps': '', 'club': 'Quilmes', 'country': 'Argentina', 'club_country': 'Argentina', 'year': '1930'}, {'number': '-', 'position': 'GK', 'name': 'Jean De Bie', 'date_of_birth': '(1892-05-09)9 May 1892 (aged 38)', 'caps': '37', 'club': 'Royal Racing Club de Bruxelles', 'country': 'Belgium', 'club_country': 'Belgium', 'year': '1930'}], 'FW': [{'number': '9', 'position': 'FW', 'name': 'Roberto Cherro', 'date_of_birth': '(1907-02-23)23 February 1907 (aged 23)', 'caps': '', 'club': 'Boca Juniors', 'country': 'Argentina', 'club_country': 'Argentina', 'year': '1930'}, {'number': '-', 'position': 'FW', 'name': 'Lee Keun-Ho', 'date_of_birth': '(1985-04-11)11 April 1985 (aged 29)', 'caps': '62', 'club': 'Sangju Sangmu', 'country': 'South Korea', 'club_country': 'South Korea', 'year': '2014'}, {'number': '-', 'position': 'FW', 'name': 'Koo Ja-Cheol', 'date_of_birth': '(1989-02-27)27 February 1989 (aged 25)', 'caps': '35', 'club': 'Mainz 05', 'country': 'South Korea', 'club_country': 'Germany', 'year': '2014'}, {'number': '-', 'position': 'FW', 'name': 'Kim Shin-Wook', 'date_of_birth': '(1988-04-14)14 April 1988 (aged 26)', 'caps': '26', 'club': 'Ulsan Hyundai', 'country': 'South Korea', 'club_country': 'South Korea', 'year': '2014'}], 'MF': [{'number': '-', 'position': 'MF', 'name': 'Pierre Braine', 'date_of_birth': '(1900-10-26)26 October 1900 (aged 29)', 'caps': '42', 'club': 'Royal Beerschot AC', 'country': 'Belgium', 'club_country': 'Belgium', 'year': '1930'}, {'number': '-', 'position': 'MF', 'name': 'Alexis Chantraine', 'date_of_birth': '(1901-03-16)16 March 1901 (aged 29)', 'caps': '0', 'club': 'Royal FC Liegeois', 'country': 'Belgium', 'club_country': 'Belgium', 'year': '1930'}, {'number': '-', 'position': 'MF', 'name': 'Oscar', 'date_of_birth': '(1991-09-09)9 September 1991 (aged 22)', 'caps': '29', 'club': 'Chelsea', 'country': 'Brazil', 'club_country': 'England', 'year': '2010'}, {'number': '-', 'position': 'MF', 'name': 'Paulinho', 'date_of_birth': '(1988-07-25)25 July 1988 (aged 25)', 'caps': '25', 'club': 'Tottenham Hotspur', 'country': 'Brazil', 'club_country': 'England', 'year': '2010'}, {'number': '-', 'position': 'MF', 'name': 'Hernanes', 'date_of_birth': '(1985-05-29)29 May 1985 (aged 29)', 'caps': '23', 'club': 'Internazionale', 'country': 'Brazil', 'club_country': 'Italy', 'year': '2014'}, {'number': '-', 'position': 'MF', 'name': 'Luiz Gustavo', 'date_of_birth': '(1987-07-23)23 July 1987 (aged 26)', 'caps': '17', 'club': 'VfL Wolfsburg', 'country': 'Brazil', 'club_country': 'Germany', 'year': '2014'}, {'number': '-', 'position': 'MF', 'name': 'Fernandinho', 'date_of_birth': '(1985-05-04)4 May 1985 (aged 29)', 'caps': '6', 'club': 'Manchester City', 'country': 'Brazil', 'club_country': 'England', 'year': '2014'}, {'number': '-', 'position': 'MF', 'name': 'Willian', 'date_of_birth': '(1988-08-09)9 August 1988 (aged 25)', 'caps': '5', 'club': 'Chelsea', 'country': 'Brazil', 'club_country': 'England', 'year': '2014'}]}\n",
            "\n",
            "Assignment 3:  {'Argentina': {'GK': [{'number': '1', 'position': 'GK', 'name': 'Juan Botasso', 'date_of_birth': '(1908-10-23)23 October 1908 (aged 21)', 'caps': '', 'club': 'Quilmes', 'country': 'Argentina', 'club_country': 'Argentina', 'year': '1930'}], 'FW': [{'number': '9', 'position': 'FW', 'name': 'Roberto Cherro', 'date_of_birth': '(1907-02-23)23 February 1907 (aged 23)', 'caps': '', 'club': 'Boca Juniors', 'country': 'Argentina', 'club_country': 'Argentina', 'year': '1930'}]}, 'Belgium': {'MF': [{'number': '-', 'position': 'MF', 'name': 'Pierre Braine', 'date_of_birth': '(1900-10-26)26 October 1900 (aged 29)', 'caps': '42', 'club': 'Royal Beerschot AC', 'country': 'Belgium', 'club_country': 'Belgium', 'year': '1930'}, {'number': '-', 'position': 'MF', 'name': 'Alexis Chantraine', 'date_of_birth': '(1901-03-16)16 March 1901 (aged 29)', 'caps': '0', 'club': 'Royal FC Liegeois', 'country': 'Belgium', 'club_country': 'Belgium', 'year': '1930'}], 'GK': [{'number': '-', 'position': 'GK', 'name': 'Jean De Bie', 'date_of_birth': '(1892-05-09)9 May 1892 (aged 38)', 'caps': '37', 'club': 'Royal Racing Club de Bruxelles', 'country': 'Belgium', 'club_country': 'Belgium', 'year': '1930'}]}, 'Brazil': {'MF': [{'number': '-', 'position': 'MF', 'name': 'Oscar', 'date_of_birth': '(1991-09-09)9 September 1991 (aged 22)', 'caps': '29', 'club': 'Chelsea', 'country': 'Brazil', 'club_country': 'England', 'year': '2010'}, {'number': '-', 'position': 'MF', 'name': 'Paulinho', 'date_of_birth': '(1988-07-25)25 July 1988 (aged 25)', 'caps': '25', 'club': 'Tottenham Hotspur', 'country': 'Brazil', 'club_country': 'England', 'year': '2010'}, {'number': '-', 'position': 'MF', 'name': 'Hernanes', 'date_of_birth': '(1985-05-29)29 May 1985 (aged 29)', 'caps': '23', 'club': 'Internazionale', 'country': 'Brazil', 'club_country': 'Italy', 'year': '2014'}, {'number': '-', 'position': 'MF', 'name': 'Luiz Gustavo', 'date_of_birth': '(1987-07-23)23 July 1987 (aged 26)', 'caps': '17', 'club': 'VfL Wolfsburg', 'country': 'Brazil', 'club_country': 'Germany', 'year': '2014'}, {'number': '-', 'position': 'MF', 'name': 'Fernandinho', 'date_of_birth': '(1985-05-04)4 May 1985 (aged 29)', 'caps': '6', 'club': 'Manchester City', 'country': 'Brazil', 'club_country': 'England', 'year': '2014'}, {'number': '-', 'position': 'MF', 'name': 'Willian', 'date_of_birth': '(1988-08-09)9 August 1988 (aged 25)', 'caps': '5', 'club': 'Chelsea', 'country': 'Brazil', 'club_country': 'England', 'year': '2014'}]}, 'South Korea': {'FW': [{'number': '-', 'position': 'FW', 'name': 'Lee Keun-Ho', 'date_of_birth': '(1985-04-11)11 April 1985 (aged 29)', 'caps': '62', 'club': 'Sangju Sangmu', 'country': 'South Korea', 'club_country': 'South Korea', 'year': '2014'}, {'number': '-', 'position': 'FW', 'name': 'Koo Ja-Cheol', 'date_of_birth': '(1989-02-27)27 February 1989 (aged 25)', 'caps': '35', 'club': 'Mainz 05', 'country': 'South Korea', 'club_country': 'Germany', 'year': '2014'}, {'number': '-', 'position': 'FW', 'name': 'Kim Shin-Wook', 'date_of_birth': '(1988-04-14)14 April 1988 (aged 26)', 'caps': '26', 'club': 'Ulsan Hyundai', 'country': 'South Korea', 'club_country': 'South Korea', 'year': '2014'}]}}\n",
            "\n",
            "All tests passed!\n"
          ]
        }
      ]
    }
  ]
}